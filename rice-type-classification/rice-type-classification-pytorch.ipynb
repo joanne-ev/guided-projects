{
 "cells": [
  {
   "metadata": {},
   "cell_type": "markdown",
   "source": "## Downloading Data from Kaggle",
   "id": "53bb9440f0587cb2"
  },
  {
   "metadata": {},
   "cell_type": "code",
   "source": [
    "import pathlib\n",
    "import os\n",
    "\n",
    "# Identify the desired folder\n",
    "kaggle_path = pathlib.Path.home() / \"Documents\" / \"Python Projects\" / \"Guided\"\n",
    "\n",
    "# Set permissions so only my user can read it\n",
    "os.chmod(kaggle_path / \"kaggle.json\", 0o600)\n",
    "\n",
    "# Tell Kaggle API to use this folder\n",
    "os.environ[\"KAGGLE_CONFIG_DIR\"] = str(kaggle_path)\n",
    "\n",
    "# Download datasets from Kaggle\n",
    "!kaggle datasets download -d mssmartypants/rice-type-classification -p ./rice-type-classification --unzip"
   ],
   "id": "2032cb7c0204c282",
   "outputs": [],
   "execution_count": null
  },
  {
   "metadata": {},
   "cell_type": "markdown",
   "source": "## Packages",
   "id": "48485bb6097c6760"
  },
  {
   "metadata": {
    "ExecuteTime": {
     "end_time": "2025-09-25T19:32:13.891065Z",
     "start_time": "2025-09-25T19:32:11.167678Z"
    }
   },
   "cell_type": "code",
   "source": [
    "import torch\n",
    "import torch.nn as nn\n",
    "from torch.optim import Adam\n",
    "from torch.utils.data import Dataset, DataLoader\n",
    "from torchsummary import summary\n",
    "\n",
    "from sklearn.model_selection import train_test_split\n",
    "from sklearn.metrics import accuracy_score\n",
    "\n",
    "import pandas as pd\n",
    "import numpy as np\n",
    "import matplotlib.pyplot as plt"
   ],
   "id": "1d7f7b81a8e8622f",
   "outputs": [],
   "execution_count": 1
  },
  {
   "metadata": {
    "ExecuteTime": {
     "end_time": "2025-09-25T19:32:13.901110Z",
     "start_time": "2025-09-25T19:32:13.898555Z"
    }
   },
   "cell_type": "code",
   "source": [
    "# Manually detect GPU\n",
    "device = 'cuda' if torch.cuda.is_available() else 'cpu'\n",
    "print(device)"
   ],
   "id": "252a6b309b75b305",
   "outputs": [
    {
     "name": "stdout",
     "output_type": "stream",
     "text": [
      "cpu\n"
     ]
    }
   ],
   "execution_count": 2
  },
  {
   "metadata": {},
   "cell_type": "markdown",
   "source": "## Data Exploration",
   "id": "63f05deeec45a949"
  },
  {
   "metadata": {
    "ExecuteTime": {
     "end_time": "2025-09-25T19:32:21.024840Z",
     "start_time": "2025-09-25T19:32:20.987171Z"
    }
   },
   "cell_type": "code",
   "source": "original_data = pd.read_csv(\"riceClassification.csv\")",
   "id": "2c3dc1d717f3b98a",
   "outputs": [],
   "execution_count": 3
  },
  {
   "metadata": {
    "ExecuteTime": {
     "end_time": "2025-09-25T19:32:21.047394Z",
     "start_time": "2025-09-25T19:32:21.026754Z"
    }
   },
   "cell_type": "code",
   "source": [
    "df = original_data.copy()\n",
    "df.head()"
   ],
   "id": "e7a408082d0e564b",
   "outputs": [
    {
     "data": {
      "text/plain": [
       "   id  Area  MajorAxisLength  MinorAxisLength  Eccentricity  ConvexArea  \\\n",
       "0   1  4537        92.229316        64.012769      0.719916        4677   \n",
       "1   2  2872        74.691881        51.400454      0.725553        3015   \n",
       "2   3  3048        76.293164        52.043491      0.731211        3132   \n",
       "3   4  3073        77.033628        51.928487      0.738639        3157   \n",
       "4   5  3693        85.124785        56.374021      0.749282        3802   \n",
       "\n",
       "   EquivDiameter    Extent  Perimeter  Roundness  AspectRation  Class  \n",
       "0      76.004525  0.657536    273.085   0.764510      1.440796      1  \n",
       "1      60.471018  0.713009    208.317   0.831658      1.453137      1  \n",
       "2      62.296341  0.759153    210.012   0.868434      1.465950      1  \n",
       "3      62.551300  0.783529    210.657   0.870203      1.483456      1  \n",
       "4      68.571668  0.769375    230.332   0.874743      1.510000      1  "
      ],
      "text/html": [
       "<div>\n",
       "<style scoped>\n",
       "    .dataframe tbody tr th:only-of-type {\n",
       "        vertical-align: middle;\n",
       "    }\n",
       "\n",
       "    .dataframe tbody tr th {\n",
       "        vertical-align: top;\n",
       "    }\n",
       "\n",
       "    .dataframe thead th {\n",
       "        text-align: right;\n",
       "    }\n",
       "</style>\n",
       "<table border=\"1\" class=\"dataframe\">\n",
       "  <thead>\n",
       "    <tr style=\"text-align: right;\">\n",
       "      <th></th>\n",
       "      <th>id</th>\n",
       "      <th>Area</th>\n",
       "      <th>MajorAxisLength</th>\n",
       "      <th>MinorAxisLength</th>\n",
       "      <th>Eccentricity</th>\n",
       "      <th>ConvexArea</th>\n",
       "      <th>EquivDiameter</th>\n",
       "      <th>Extent</th>\n",
       "      <th>Perimeter</th>\n",
       "      <th>Roundness</th>\n",
       "      <th>AspectRation</th>\n",
       "      <th>Class</th>\n",
       "    </tr>\n",
       "  </thead>\n",
       "  <tbody>\n",
       "    <tr>\n",
       "      <th>0</th>\n",
       "      <td>1</td>\n",
       "      <td>4537</td>\n",
       "      <td>92.229316</td>\n",
       "      <td>64.012769</td>\n",
       "      <td>0.719916</td>\n",
       "      <td>4677</td>\n",
       "      <td>76.004525</td>\n",
       "      <td>0.657536</td>\n",
       "      <td>273.085</td>\n",
       "      <td>0.764510</td>\n",
       "      <td>1.440796</td>\n",
       "      <td>1</td>\n",
       "    </tr>\n",
       "    <tr>\n",
       "      <th>1</th>\n",
       "      <td>2</td>\n",
       "      <td>2872</td>\n",
       "      <td>74.691881</td>\n",
       "      <td>51.400454</td>\n",
       "      <td>0.725553</td>\n",
       "      <td>3015</td>\n",
       "      <td>60.471018</td>\n",
       "      <td>0.713009</td>\n",
       "      <td>208.317</td>\n",
       "      <td>0.831658</td>\n",
       "      <td>1.453137</td>\n",
       "      <td>1</td>\n",
       "    </tr>\n",
       "    <tr>\n",
       "      <th>2</th>\n",
       "      <td>3</td>\n",
       "      <td>3048</td>\n",
       "      <td>76.293164</td>\n",
       "      <td>52.043491</td>\n",
       "      <td>0.731211</td>\n",
       "      <td>3132</td>\n",
       "      <td>62.296341</td>\n",
       "      <td>0.759153</td>\n",
       "      <td>210.012</td>\n",
       "      <td>0.868434</td>\n",
       "      <td>1.465950</td>\n",
       "      <td>1</td>\n",
       "    </tr>\n",
       "    <tr>\n",
       "      <th>3</th>\n",
       "      <td>4</td>\n",
       "      <td>3073</td>\n",
       "      <td>77.033628</td>\n",
       "      <td>51.928487</td>\n",
       "      <td>0.738639</td>\n",
       "      <td>3157</td>\n",
       "      <td>62.551300</td>\n",
       "      <td>0.783529</td>\n",
       "      <td>210.657</td>\n",
       "      <td>0.870203</td>\n",
       "      <td>1.483456</td>\n",
       "      <td>1</td>\n",
       "    </tr>\n",
       "    <tr>\n",
       "      <th>4</th>\n",
       "      <td>5</td>\n",
       "      <td>3693</td>\n",
       "      <td>85.124785</td>\n",
       "      <td>56.374021</td>\n",
       "      <td>0.749282</td>\n",
       "      <td>3802</td>\n",
       "      <td>68.571668</td>\n",
       "      <td>0.769375</td>\n",
       "      <td>230.332</td>\n",
       "      <td>0.874743</td>\n",
       "      <td>1.510000</td>\n",
       "      <td>1</td>\n",
       "    </tr>\n",
       "  </tbody>\n",
       "</table>\n",
       "</div>"
      ]
     },
     "execution_count": 4,
     "metadata": {},
     "output_type": "execute_result"
    }
   ],
   "execution_count": 4
  },
  {
   "metadata": {
    "ExecuteTime": {
     "end_time": "2025-09-25T19:32:25.973280Z",
     "start_time": "2025-09-25T19:32:25.963744Z"
    }
   },
   "cell_type": "code",
   "source": [
    "df.dropna(inplace=True) # Drop rows with missing value\n",
    "df.drop(['id'], axis=1, inplace=True)\n",
    "print(df.shape)"
   ],
   "id": "474176fe732ee3be",
   "outputs": [
    {
     "name": "stdout",
     "output_type": "stream",
     "text": [
      "(18185, 11)\n"
     ]
    }
   ],
   "execution_count": 5
  },
  {
   "metadata": {
    "ExecuteTime": {
     "end_time": "2025-09-25T19:32:27.059976Z",
     "start_time": "2025-09-25T19:32:27.054735Z"
    }
   },
   "cell_type": "code",
   "source": "df.Class.value_counts()",
   "id": "4988c6ffd7cc83a8",
   "outputs": [
    {
     "data": {
      "text/plain": [
       "Class\n",
       "1    9985\n",
       "0    8200\n",
       "Name: count, dtype: int64"
      ]
     },
     "execution_count": 6,
     "metadata": {},
     "output_type": "execute_result"
    }
   ],
   "execution_count": 6
  },
  {
   "metadata": {},
   "cell_type": "markdown",
   "source": "The frequency table shows a slight imbalanced proportion of labels within the dataset. There are more labels of _1 (Jasmine)_ (9985) than there are _0 (Gonen)_ (8200). To correct this imbalance the majority label will be downsampled to match the minorty label.",
   "id": "2f04caa3048534a8"
  },
  {
   "metadata": {
    "ExecuteTime": {
     "end_time": "2025-09-25T19:32:29.574807Z",
     "start_time": "2025-09-25T19:32:29.547232Z"
    }
   },
   "cell_type": "code",
   "source": [
    "# Separate dataset by label\n",
    "gonen = df.copy().query(\"Class == 0\")\n",
    "jasmine = df.copy().query(\"Class == 1\")\n",
    "\n",
    "# Downsample Jasmine samples to match Gonen samples\n",
    "jasmine_downsampled = jasmine.sample(n=len(gonen))\n",
    "\n",
    "# Create balanced dataset\n",
    "df = pd.concat([gonen, jasmine_downsampled])\n",
    "\n",
    "# Check if samples for each label are equal\n",
    "df.Class.value_counts()"
   ],
   "id": "90b13fed32b4e3cb",
   "outputs": [
    {
     "data": {
      "text/plain": [
       "Class\n",
       "0    8200\n",
       "1    8200\n",
       "Name: count, dtype: int64"
      ]
     },
     "execution_count": 7,
     "metadata": {},
     "output_type": "execute_result"
    }
   ],
   "execution_count": 7
  },
  {
   "metadata": {},
   "cell_type": "markdown",
   "source": "## Creating Training, Test and Validation Datasets",
   "id": "821b2a5a8a82809c"
  },
  {
   "metadata": {
    "ExecuteTime": {
     "end_time": "2025-09-25T19:39:55.330601Z",
     "start_time": "2025-09-25T19:39:55.304802Z"
    }
   },
   "cell_type": "code",
   "source": [
    "# Feature variables\n",
    "X = np.array(df.iloc[: , :-1])\n",
    "\n",
    "# Target variable\n",
    "y = np.array(df.iloc[: , -1])"
   ],
   "id": "9f4225f2bfaa5d65",
   "outputs": [],
   "execution_count": 11
  },
  {
   "metadata": {
    "ExecuteTime": {
     "end_time": "2025-09-25T19:39:57.229462Z",
     "start_time": "2025-09-25T19:39:57.214527Z"
    }
   },
   "cell_type": "code",
   "source": [
    "# Split dataset into training and testing data\n",
    "X_train, X_test, y_train, y_test = train_test_split(X, y, test_size=0.3)\n",
    "\n",
    "# Split dataset into testing and validation data\n",
    "X_test, X_val, y_test, y_val = train_test_split(X_test, y_test, test_size=0.5)\n",
    "\n",
    "print(\n",
    "    X_train.shape,\n",
    "    X_test.shape,\n",
    "    X_val.shape,\n",
    "    sep='\\n'\n",
    ")"
   ],
   "id": "463bb1bcef3822ff",
   "outputs": [
    {
     "name": "stdout",
     "output_type": "stream",
     "text": [
      "(11480, 10)\n",
      "(2460, 10)\n",
      "(2460, 10)\n"
     ]
    }
   ],
   "execution_count": 12
  },
  {
   "metadata": {},
   "cell_type": "markdown",
   "source": "## Preprocessing: Standardisation",
   "id": "c43ba0991c4233b5"
  },
  {
   "metadata": {},
   "cell_type": "markdown",
   "source": "Each variable has a different scale, with some substantially larger than others. At its current state, the difference in scale would introduce bias in the neural network resulting in a less accurate model. To mitigate this problem, the dataset will undergo normalisation where each value is divided by the largest absolute value in its respective column.",
   "id": "413ac2224d03feb5"
  },
  {
   "metadata": {
    "ExecuteTime": {
     "end_time": "2025-09-25T19:35:52.151230Z",
     "start_time": "2025-09-25T19:35:52.148058Z"
    }
   },
   "cell_type": "code",
   "outputs": [],
   "execution_count": 9,
   "source": "from sklearn.preprocessing import StandardScaler",
   "id": "c71b64c353d665c9"
  },
  {
   "metadata": {
    "ExecuteTime": {
     "end_time": "2025-09-25T19:41:20.755444Z",
     "start_time": "2025-09-25T19:41:20.683510Z"
    }
   },
   "cell_type": "code",
   "source": [
    "scaler = StandardScaler()\n",
    "X_train = scaler.fit_transform(X_train)\n",
    "X_test = scaler.transform(X_test)\n",
    "X_val = scaler.transform(X_val)"
   ],
   "id": "94946307b4e0f4d4",
   "outputs": [],
   "execution_count": 13
  },
  {
   "metadata": {},
   "cell_type": "markdown",
   "source": "## Transforming into Tensor Data",
   "id": "e3cab318b2a0910b"
  },
  {
   "metadata": {
    "ExecuteTime": {
     "end_time": "2025-09-25T19:41:28.513308Z",
     "start_time": "2025-09-25T19:41:28.501007Z"
    }
   },
   "cell_type": "code",
   "source": [
    "class dataset(Dataset):\n",
    "    # Transform data into tensor datatype and move the tensor data to the device (i.e., CPU, GPU)\n",
    "    def __init__(self, X, y):\n",
    "        self.X = torch.tensor(X, dtype=torch.float32).to(device)\n",
    "        self.y = torch.tensor(y, dtype=torch.float32).to(device)\n",
    "\n",
    "    # Returns the shape of the feature tensor data\n",
    "    def __len__(self):\n",
    "        return len(self.X)\n",
    "\n",
    "    # Retrieve specific item from an index\n",
    "    def __getitem__(self, item):\n",
    "        return self.X[item], self.y[item]"
   ],
   "id": "e18ff52757720e3b",
   "outputs": [],
   "execution_count": 14
  },
  {
   "metadata": {},
   "cell_type": "markdown",
   "source": "## PyTorch Implementation",
   "id": "e050f729f0827ead"
  },
  {
   "metadata": {
    "ExecuteTime": {
     "end_time": "2025-09-25T19:41:28.548972Z",
     "start_time": "2025-09-25T19:41:28.538189Z"
    }
   },
   "cell_type": "code",
   "source": [
    "hidden_neurones = 10\n",
    "\n",
    "class Model(nn.Module):\n",
    "\n",
    "    def __init__(self):\n",
    "        # Use the same constructor inherited from nn.Module\n",
    "        super(Model, self).__init__()\n",
    "\n",
    "        # Multi-layer perceptron\n",
    "        self.input_layer = nn.Linear(X.shape[1], hidden_neurones)   # Input is 10 features and the output is a number of hidden neurones\n",
    "        self.linear = nn.Linear(hidden_neurones, 1)     # Hidden layer input of hidden neurones with one output layer producing a probability (0 if < 0.5 or 1 if > 0.5)\n",
    "        self.sigmoid = nn.Sigmoid()     # Sigmoid activation function\n",
    "\n",
    "    # Forward propagation : How the data passes through the model\n",
    "    def forward(self, x):\n",
    "        x = self.input_layer(x)\n",
    "        x = self.linear(x)\n",
    "        x = self.sigmoid(x)\n",
    "        return x"
   ],
   "id": "10d01e44c2360a97",
   "outputs": [],
   "execution_count": 15
  },
  {
   "metadata": {
    "ExecuteTime": {
     "end_time": "2025-09-25T19:41:28.708360Z",
     "start_time": "2025-09-25T19:41:28.554152Z"
    }
   },
   "cell_type": "code",
   "source": [
    "model = Model().to(device)\n",
    "\n",
    "summary(model, (X.shape[1], ))"
   ],
   "id": "78f18427cd1a8796",
   "outputs": [
    {
     "name": "stdout",
     "output_type": "stream",
     "text": [
      "----------------------------------------------------------------\n",
      "        Layer (type)               Output Shape         Param #\n",
      "================================================================\n",
      "            Linear-1                   [-1, 10]             110\n",
      "            Linear-2                    [-1, 1]              11\n",
      "           Sigmoid-3                    [-1, 1]               0\n",
      "================================================================\n",
      "Total params: 121\n",
      "Trainable params: 121\n",
      "Non-trainable params: 0\n",
      "----------------------------------------------------------------\n",
      "Input size (MB): 0.00\n",
      "Forward/backward pass size (MB): 0.00\n",
      "Params size (MB): 0.00\n",
      "Estimated Total Size (MB): 0.00\n",
      "----------------------------------------------------------------\n"
     ]
    }
   ],
   "execution_count": 16
  },
  {
   "metadata": {},
   "cell_type": "markdown",
   "source": [
    "The above summary shows the neural network's architecture and parameters:\n",
    "\n",
    "```\n",
    "Input (10 features) → Linear Layer (10 neurons) → Linear Layer (1 neuron) → Sigmoid → Output (probability)\n",
    "```\n",
    "\n",
    "**Layer 1 - Linear-1 (Input Layer):**\n",
    "- Input: 10 features (i.e., dataset features)\n",
    "- Output: 10 hidden neurones\n",
    "- Parameters: 110 (10 inputs × 10 outputs + 10 biases = 110)\n",
    "\n",
    "**Layer 2 - Linear-2 (Output Layer):**\n",
    "- Input: 10 hidden neurones\n",
    "- Output: 1 neuron (i.e., binary classification)\n",
    "- Parameters: 11 (10 inputs × 1 output + 1 bias = 11)\n",
    "\n",
    "**Layer 3 - Sigmoid-3 (Activation):**\n",
    "- Applies sigmoid function to convert output to probability (0-1)\n",
    "- Parameters: 0 (i.e., activation functions do not have trainable parameters)"
   ],
   "id": "4ce99e99b32340cc"
  },
  {
   "metadata": {},
   "cell_type": "markdown",
   "source": "### Training",
   "id": "cde9c5a177e1b320"
  },
  {
   "metadata": {},
   "cell_type": "markdown",
   "source": "`DataLoader` applies a batch of data to the neural network at every epoch.",
   "id": "59a061684d57c7cc"
  },
  {
   "metadata": {
    "ExecuteTime": {
     "end_time": "2025-09-25T19:41:28.749151Z",
     "start_time": "2025-09-25T19:41:28.720181Z"
    }
   },
   "cell_type": "code",
   "source": [
    "training_data = dataset(X_train, y_train)\n",
    "validation_data = dataset(X_val, y_val)\n",
    "test_data = dataset(X_test, y_test)\n",
    "\n",
    "train_dataloader = DataLoader(training_data, batch_size=8, shuffle=True)\n",
    "validation_dataloader = DataLoader(validation_data, batch_size=8, shuffle=True)\n",
    "test_dataloader = DataLoader(test_data, batch_size=8, shuffle=True)"
   ],
   "id": "399531650e7a0164",
   "outputs": [],
   "execution_count": 17
  },
  {
   "metadata": {
    "ExecuteTime": {
     "end_time": "2025-09-25T19:41:32.045952Z",
     "start_time": "2025-09-25T19:41:28.824080Z"
    }
   },
   "cell_type": "code",
   "source": [
    "# Binary cross-enthrophy loss\n",
    "criterion = nn.BCELoss()\n",
    "\n",
    "# Optimising model parameters\n",
    "optimiser = Adam(model.parameters(), lr=1e-3)"
   ],
   "id": "5564197a1692c2d7",
   "outputs": [],
   "execution_count": 18
  },
  {
   "metadata": {
    "ExecuteTime": {
     "end_time": "2025-09-25T19:41:42.575091Z",
     "start_time": "2025-09-25T19:41:32.078930Z"
    }
   },
   "cell_type": "code",
   "source": [
    "total_loss_train_plot = []\n",
    "total_loss_validation_plot = []\n",
    "total_acc_train_plot = []\n",
    "total_acc_validation_plot = []\n",
    "\n",
    "epochs = 10\n",
    "\n",
    "for epoch in range(epochs):\n",
    "    total_acc_train = 0\n",
    "    total_loss_train = 0\n",
    "    total_acc_val = 0\n",
    "    total_loss_val = 0\n",
    "\n",
    "    # Training each batch (size=8) of data\n",
    "    for data in train_dataloader:\n",
    "        inputs, labels = data\n",
    "\n",
    "        # Generate prediction\n",
    "        prediction = model(inputs).squeeze(1)\n",
    "\n",
    "        # Calculate loss for each batch of data\n",
    "        batch_loss = criterion(prediction, labels)\n",
    "        total_loss_train += batch_loss.item()\n",
    "\n",
    "        # Returns a list of boolean comparing predicted and actual values (True, False)\n",
    "        acc = (prediction.round() == labels).sum().item()\n",
    "        total_acc_train += acc\n",
    "\n",
    "        # Backwards propagation\n",
    "        batch_loss.backward()\n",
    "        optimiser.step()\n",
    "        optimiser.zero_grad()   # Restart optimiser\n",
    "\n",
    "\n",
    "    # Use the model for validations purposes (i.e., no change to weights)\n",
    "    with torch.no_grad():\n",
    "        for data in validation_dataloader:\n",
    "            inputs, labels = data\n",
    "\n",
    "            prediction = model(inputs).squeeze(1)\n",
    "            batch_loss = criterion(prediction, labels)\n",
    "\n",
    "            total_loss_val += batch_loss.item()\n",
    "            acc = (prediction.round() == labels).sum().item()\n",
    "\n",
    "            total_acc_val += acc\n",
    "\n",
    "    total_loss_train_plot.append(round(total_loss_train/1000, 4))\n",
    "    total_loss_validation_plot.append(round(total_loss_val/1000, 4))\n",
    "\n",
    "    total_acc_train_plot.append(round(total_acc_train/training_data.__len__() * 100, 4))    # Percentage score\n",
    "    total_acc_validation_plot.append(round(total_acc_val/validation_data.__len__() * 100, 4))\n",
    "\n",
    "    print(\n",
    "        f\"Epoch no.: {epoch+1}\",\n",
    "        f\"Training loss: {round(total_loss_train/1000, 4)}\",\n",
    "        f\"Training accuracy: {round(total_acc_train/training_data.__len__() * 100, 4)}\",\n",
    "        f\"Validation loss: {round(total_loss_val/1000, 4)}\",\n",
    "        f\"Validation accuracy: {round(total_acc_val/validation_data.__len__() * 100, 4)}\",\n",
    "        \"-----\",\n",
    "        sep='\\n'\n",
    "    )\n"
   ],
   "id": "4131e32b5ec9a2f0",
   "outputs": [
    {
     "name": "stdout",
     "output_type": "stream",
     "text": [
      "Epoch no.: 1\n",
      "Training loss: 0.1347\n",
      "Training accuracy: 97.4216\n",
      "Validation loss: 0.0133\n",
      "Validation accuracy: 98.4553\n",
      "-----\n",
      "Epoch no.: 2\n",
      "Training loss: 0.0559\n",
      "Training accuracy: 98.6498\n",
      "Validation loss: 0.0121\n",
      "Validation accuracy: 98.7398\n",
      "-----\n",
      "Epoch no.: 3\n",
      "Training loss: 0.0542\n",
      "Training accuracy: 98.7282\n",
      "Validation loss: 0.0114\n",
      "Validation accuracy: 98.7805\n",
      "-----\n",
      "Epoch no.: 4\n",
      "Training loss: 0.0532\n",
      "Training accuracy: 98.7369\n",
      "Validation loss: 0.0112\n",
      "Validation accuracy: 98.8618\n",
      "-----\n",
      "Epoch no.: 5\n",
      "Training loss: 0.0525\n",
      "Training accuracy: 98.7892\n",
      "Validation loss: 0.011\n",
      "Validation accuracy: 98.9431\n",
      "-----\n",
      "Epoch no.: 6\n",
      "Training loss: 0.0521\n",
      "Training accuracy: 98.8153\n",
      "Validation loss: 0.0109\n",
      "Validation accuracy: 98.8211\n",
      "-----\n",
      "Epoch no.: 7\n",
      "Training loss: 0.0517\n",
      "Training accuracy: 98.824\n",
      "Validation loss: 0.0109\n",
      "Validation accuracy: 98.9024\n",
      "-----\n",
      "Epoch no.: 8\n",
      "Training loss: 0.0514\n",
      "Training accuracy: 98.8066\n",
      "Validation loss: 0.0106\n",
      "Validation accuracy: 98.8618\n",
      "-----\n",
      "Epoch no.: 9\n",
      "Training loss: 0.0511\n",
      "Training accuracy: 98.8153\n",
      "Validation loss: 0.0109\n",
      "Validation accuracy: 98.8618\n",
      "-----\n",
      "Epoch no.: 10\n",
      "Training loss: 0.0508\n",
      "Training accuracy: 98.824\n",
      "Validation loss: 0.0107\n",
      "Validation accuracy: 98.8618\n",
      "-----\n"
     ]
    }
   ],
   "execution_count": 19
  },
  {
   "metadata": {},
   "cell_type": "markdown",
   "source": "## Visualisation",
   "id": "471fd0e23dcbe4f1"
  },
  {
   "metadata": {
    "ExecuteTime": {
     "end_time": "2025-09-25T19:41:43.161568Z",
     "start_time": "2025-09-25T19:41:42.715637Z"
    }
   },
   "cell_type": "code",
   "source": [
    "fig, axes = plt.subplots(nrows=1, ncols=2, figsize=(15, 5))\n",
    "\n",
    "axes[0].plot(total_loss_train_plot, label = \"training loss\")\n",
    "axes[0].plot(total_loss_validation_plot, label = \"validation loss\")\n",
    "axes[0].set(\n",
    "    title=f\"Training and Validation Loss Over {epochs} epochs\",\n",
    "    xlabel='Epochs',\n",
    "    ylabel='Loss',\n",
    "    ylim=([0, 1])\n",
    ")\n",
    "axes[0].legend()\n",
    "\n",
    "\n",
    "axes[1].plot(total_acc_train_plot, label = \"training accuracy\")\n",
    "axes[1].plot(total_acc_validation_plot, label = \"validation accuracy\")\n",
    "axes[1].set(\n",
    "    title=f\"Training and Validation Accuracy Over {epochs} epochs\",\n",
    "    xlabel='Epochs',\n",
    "    ylabel='Accuracy',\n",
    "    ylim=([0, 100])\n",
    ")\n",
    "axes[1].legend()"
   ],
   "id": "7e0ac826f9ed5112",
   "outputs": [
    {
     "data": {
      "text/plain": [
       "<matplotlib.legend.Legend at 0x1485e2f10>"
      ]
     },
     "execution_count": 21,
     "metadata": {},
     "output_type": "execute_result"
    },
    {
     "data": {
      "text/plain": [
       "<Figure size 1500x500 with 2 Axes>"
      ],
      "image/png": "[encoded data removed]"
     },
     "metadata": {},
     "output_type": "display_data",
     "jetTransient": {
      "display_id": null
     }
    }
   ],
   "execution_count": 21
  },
  {
   "metadata": {},
   "cell_type": "markdown",
   "source": "### Testing Model",
   "id": "8c84b26ad8febfbd"
  },
  {
   "metadata": {
    "ExecuteTime": {
     "end_time": "2025-09-25T19:41:42.693968Z",
     "start_time": "2025-09-25T19:41:42.634266Z"
    }
   },
   "cell_type": "code",
   "outputs": [
    {
     "name": "stdout",
     "output_type": "stream",
     "text": [
      "Test accuracy: 98.6179\n"
     ]
    }
   ],
   "execution_count": 20,
   "source": [
    "with torch.no_grad():\n",
    "    total_loss_test = 0\n",
    "    total_acc_test = 0\n",
    "\n",
    "    for data in test_dataloader:\n",
    "        inputs, labels = data\n",
    "\n",
    "        prediction = model(inputs).squeeze(1)\n",
    "\n",
    "        batch_loss_test = criterion(prediction, labels).item()\n",
    "        total_loss_test += batch_loss_test\n",
    "\n",
    "        acc = (prediction.round() == labels).sum().item()\n",
    "        total_acc_test += acc\n",
    "\n",
    "print(f\"Test accuracy: {round(total_acc_test / test_data.__len__() * 100, 4)}\")"
   ],
   "id": "49b22b60eecaa0fa"
  },
  {
   "metadata": {},
   "cell_type": "markdown",
   "source": "## Making Predictions",
   "id": "b84f45838e99c8ae"
  },
  {
   "metadata": {
    "ExecuteTime": {
     "end_time": "2025-09-25T19:41:43.181724Z",
     "start_time": "2025-09-25T19:41:43.179762Z"
    }
   },
   "cell_type": "code",
   "source": "from random import uniform",
   "id": "10046c7ee00e48ad",
   "outputs": [],
   "execution_count": 22
  },
  {
   "metadata": {
    "ExecuteTime": {
     "end_time": "2025-09-25T19:41:43.225541Z",
     "start_time": "2025-09-25T19:41:43.195506Z"
    }
   },
   "cell_type": "code",
   "source": [
    "samples = []\n",
    "\n",
    "for i in range(10):\n",
    "    sample = {}\n",
    "\n",
    "    for var in original_data.columns[1:-1]:\n",
    "\n",
    "        # Randomly generate a datapoint within the column - Sample between max and min value in the variable\n",
    "        s = uniform(original_data[var].min(), original_data[var].max()).item()\n",
    "\n",
    "        # Normalisation\n",
    "        sample[var] = s / original_data[var].abs().max()\n",
    "\n",
    "    # Use the sampled datapoint as input into the model\n",
    "    sample_pred = model(torch.tensor(list(sample.values()), dtype=torch.float32).unsqueeze(0).to(device))\n",
    "\n",
    "    # Append the prediction to the list\n",
    "    samples.append(round(sample_pred.item()))"
   ],
   "id": "fed0e3875864f6a8",
   "outputs": [],
   "execution_count": 23
  },
  {
   "metadata": {
    "ExecuteTime": {
     "end_time": "2025-09-25T19:41:43.235990Z",
     "start_time": "2025-09-25T19:41:43.232158Z"
    }
   },
   "cell_type": "code",
   "source": "samples",
   "id": "b8802fdc7924bf36",
   "outputs": [
    {
     "data": {
      "text/plain": [
       "[0, 0, 0, 0, 0, 0, 0, 0, 0, 0]"
      ]
     },
     "execution_count": 24,
     "metadata": {},
     "output_type": "execute_result"
    }
   ],
   "execution_count": 24
  }
 ],
 "metadata": {
  "kernelspec": {
   "display_name": "Python 3",
   "language": "python",
   "name": "python3"
  },
  "language_info": {
   "codemirror_mode": {
    "name": "ipython",
    "version": 2
   },
   "file_extension": ".py",
   "mimetype": "text/x-python",
   "name": "python",
   "nbconvert_exporter": "python",
   "pygments_lexer": "ipython2",
   "version": "2.7.6"
  }
 },
 "nbformat": 4,
 "nbformat_minor": 5
}
